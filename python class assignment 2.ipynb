{
 "cells": [
  {
   "cell_type": "code",
   "execution_count": 2,
   "id": "cbb07f10",
   "metadata": {},
   "outputs": [
    {
     "name": "stdout",
     "output_type": "stream",
     "text": [
      "458.0\n"
     ]
    }
   ],
   "source": [
    "num = 458\n",
    "print(float(num))"
   ]
  },
  {
   "cell_type": "code",
   "execution_count": 1,
   "id": "8c92e85a",
   "metadata": {},
   "outputs": [
    {
     "name": "stdout",
     "output_type": "stream",
     "text": [
      "first name  smart\n",
      "second name  osaze\n",
      "surname:shedrack\n",
      "hello smart osaze shedrack\n"
     ]
    }
   ],
   "source": [
    "name1 = input('first name  ')\n",
    "name2 = input('second name  ')\n",
    "name3 = input('surname:')\n",
    "print(f'hello {name1} {name2} {name3}')"
   ]
  },
  {
   "cell_type": "code",
   "execution_count": 13,
   "id": "db37eceb",
   "metadata": {},
   "outputs": [
    {
     "name": "stdout",
     "output_type": "stream",
     "text": [
      "5955.08\n"
     ]
    }
   ],
   "source": [
    " # compound interest\n",
    "p = 5000 # assigned the principal value \n",
    "r = 6 # assigned the rate of interest\n",
    "t = 3 # assigning number of years \n",
    "ci = p*(pow((1 + r/100),t))\n",
    "print(ci)"
   ]
  },
  {
   "cell_type": "code",
   "execution_count": 21,
   "id": "6051a995",
   "metadata": {},
   "outputs": [
    {
     "ename": "TypeError",
     "evalue": "unsupported operand type(s) for +: 'int' and 'str'",
     "output_type": "error",
     "traceback": [
      "\u001b[1;31m---------------------------------------------------------------------------\u001b[0m",
      "\u001b[1;31mTypeError\u001b[0m                                 Traceback (most recent call last)",
      "Input \u001b[1;32mIn [21]\u001b[0m, in \u001b[0;36m<cell line: 6>\u001b[1;34m()\u001b[0m\n\u001b[0;32m      4\u001b[0m APR \u001b[38;5;241m=\u001b[39m \u001b[38;5;241m5\u001b[39m \u001b[38;5;241m/\u001b[39m \u001b[38;5;241m3\u001b[39m \n\u001b[0;32m      5\u001b[0m I \u001b[38;5;241m=\u001b[39m \u001b[38;5;124m'\u001b[39m\u001b[38;5;124mPO(APR)\u001b[39m\u001b[38;5;124m'\u001b[39m\n\u001b[1;32m----> 6\u001b[0m A \u001b[38;5;241m=\u001b[39m \u001b[38;5;28mint\u001b[39m(\u001b[43mPO\u001b[49m\u001b[43m \u001b[49m\u001b[38;5;241;43m+\u001b[39;49m\u001b[43m \u001b[49m\u001b[43mI\u001b[49m)\n\u001b[0;32m      7\u001b[0m \u001b[38;5;28mprint\u001b[39m(A)\n",
      "\u001b[1;31mTypeError\u001b[0m: unsupported operand type(s) for +: 'int' and 'str'"
     ]
    }
   ],
   "source": [
    "PO = 55000\n",
    "R = 5\n",
    "T = 3\n",
    "APR = 5 / 3 \n",
    "I = PO(APR)\n",
    "A = int(PO + I)\n",
    "print(A)"
   ]
  }
 ],
 "metadata": {
  "kernelspec": {
   "display_name": "Python 3 (ipykernel)",
   "language": "python",
   "name": "python3"
  },
  "language_info": {
   "codemirror_mode": {
    "name": "ipython",
    "version": 3
   },
   "file_extension": ".py",
   "mimetype": "text/x-python",
   "name": "python",
   "nbconvert_exporter": "python",
   "pygments_lexer": "ipython3",
   "version": "3.9.12"
  }
 },
 "nbformat": 4,
 "nbformat_minor": 5
}
