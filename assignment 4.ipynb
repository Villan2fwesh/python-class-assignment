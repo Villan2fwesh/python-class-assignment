{
 "cells": [
  {
   "cell_type": "code",
   "execution_count": 6,
   "id": "eca45bc8",
   "metadata": {},
   "outputs": [
    {
     "name": "stdout",
     "output_type": "stream",
     "text": [
      "please provide how much do you earn  50000\n",
      "  years of service  4\n",
      "2500\n"
     ]
    }
   ],
   "source": [
    "rate = 5\n",
    "salary = int(input('please provide how much do you earn  '))\n",
    "years = int(input('  years of service  '))\n",
    "netbonus =((salary + years)* 5)//100\n",
    "print(netbonus)"
   ]
  },
  {
   "cell_type": "code",
   "execution_count": 19,
   "id": "fd31ecc1",
   "metadata": {},
   "outputs": [
    {
     "name": "stdout",
     "output_type": "stream",
     "text": [
      "first value of choice:  45\n",
      "second value of choice:  90\n",
      "user2 greater\n"
     ]
    }
   ],
   "source": [
    "user1 = int(input('first value of choice:  '))\n",
    "user2 = int(input('second value of choice:  '))\n",
    "if user1 > user2:\n",
    "    print('user1 greater')\n",
    "else:\n",
    "    print('user2 greater')"
   ]
  },
  {
   "cell_type": "code",
   "execution_count": 20,
   "id": "282de84a",
   "metadata": {},
   "outputs": [
    {
     "name": "stdout",
     "output_type": "stream",
     "text": [
      "your age: 75\n",
      "your age: 84\n",
      "your age: 9\n",
      "age3 is oldest: \n",
      "age1 is youngest: \n"
     ]
    }
   ],
   "source": [
    "age1 = input('your age: ')\n",
    "age2 = input('your age: ')\n",
    "age3 = input('your age: ')\n",
    "if age1 > age2 and age1 > age3:\n",
    "    print('age1 is oldest: ')\n",
    "elif age2 > age1 and age2 > age3:\n",
    "    print('age2 is oldest: ')\n",
    "else:\n",
    "    print('age3 is oldest: ')\n",
    "if age1 < age2 and age1 < age3:\n",
    "    print('age1 is youngest: ')\n",
    "elif age2 < age1 and age2 < age3:\n",
    "    print('age2 is youngest: ')\n",
    "else:\n",
    "    print('age3 is youngest: ')"
   ]
  }
 ],
 "metadata": {
  "kernelspec": {
   "display_name": "Python 3 (ipykernel)",
   "language": "python",
   "name": "python3"
  },
  "language_info": {
   "codemirror_mode": {
    "name": "ipython",
    "version": 3
   },
   "file_extension": ".py",
   "mimetype": "text/x-python",
   "name": "python",
   "nbconvert_exporter": "python",
   "pygments_lexer": "ipython3",
   "version": "3.9.12"
  }
 },
 "nbformat": 4,
 "nbformat_minor": 5
}
