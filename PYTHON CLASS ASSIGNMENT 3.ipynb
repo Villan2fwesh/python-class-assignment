{
 "cells": [
  {
   "cell_type": "code",
   "execution_count": 10,
   "id": "c30cbdc8",
   "metadata": {},
   "outputs": [
    {
     "name": "stdout",
     "output_type": "stream",
     "text": [
      "(55, 57, 47, 55, 55, 46, 50, 57, 53, 55, 50, 58, 51, 51, 49, 45, 55, 48, 45, 53, 46)\n"
     ]
    }
   ],
   "source": [
    "num1 = (46,53,45,48,55,45,49,51,51,58,50,55,53,57,50,46,55,55,47,57,55) \n",
    "num2 = reversed(num1)\n",
    "print(tuple(num2))"
   ]
  },
  {
   "cell_type": "code",
   "execution_count": 29,
   "id": "691c2445",
   "metadata": {},
   "outputs": [
    {
     "name": "stdout",
     "output_type": "stream",
     "text": [
      "58\n"
     ]
    }
   ],
   "source": [
    "print(num1[9])"
   ]
  },
  {
   "cell_type": "code",
   "execution_count": 32,
   "id": "2677adac",
   "metadata": {},
   "outputs": [
    {
     "name": "stdout",
     "output_type": "stream",
     "text": [
      "5\n"
     ]
    }
   ],
   "source": [
    "print(num1.count(55))"
   ]
  },
  {
   "cell_type": "code",
   "execution_count": 38,
   "id": "5d2a7a10",
   "metadata": {},
   "outputs": [
    {
     "name": "stdout",
     "output_type": "stream",
     "text": [
      "6\n",
      "13\n"
     ]
    }
   ],
   "source": [
    "print(num1.index(49))\n",
    "print(num1.index(57))"
   ]
  },
  {
   "cell_type": "markdown",
   "id": "22fa3d01",
   "metadata": {},
   "source": [
    "list"
   ]
  },
  {
   "cell_type": "code",
   "execution_count": 47,
   "id": "de00d83b",
   "metadata": {},
   "outputs": [
    {
     "name": "stdout",
     "output_type": "stream",
     "text": [
      "[55, 57, 47, 55, 55, 46, 50, 57, 53, 55, 50, 58, 51, 51, 49, 45, 55, 48, 45, 53, 46]\n"
     ]
    }
   ],
   "source": [
    "num5 = [46,53,45,48,55,45,49,51,51,58,50,55,53,57,50,46,55,55,47,57,55]\n",
    "num5.reverse()\n",
    "print(num1)"
   ]
  },
  {
   "cell_type": "code",
   "execution_count": 49,
   "id": "4757de3a",
   "metadata": {},
   "outputs": [
    {
     "name": "stdout",
     "output_type": "stream",
     "text": [
      "58\n"
     ]
    }
   ],
   "source": [
    "print(num5[11])"
   ]
  },
  {
   "cell_type": "code",
   "execution_count": 53,
   "id": "a264cf1f",
   "metadata": {},
   "outputs": [
    {
     "name": "stdout",
     "output_type": "stream",
     "text": [
      "2\n"
     ]
    }
   ],
   "source": [
    "print(num5.count(51))"
   ]
  },
  {
   "cell_type": "code",
   "execution_count": 58,
   "id": "a5b62bdc",
   "metadata": {},
   "outputs": [
    {
     "name": "stdout",
     "output_type": "stream",
     "text": [
      "57\n"
     ]
    }
   ],
   "source": [
    "print(num5[1])"
   ]
  },
  {
   "cell_type": "code",
   "execution_count": 59,
   "id": "924c43cd",
   "metadata": {},
   "outputs": [
    {
     "name": "stdout",
     "output_type": "stream",
     "text": [
      "49\n"
     ]
    }
   ],
   "source": [
    "print(num5[14])"
   ]
  },
  {
   "cell_type": "code",
   "execution_count": 61,
   "id": "eed30de5",
   "metadata": {},
   "outputs": [
    {
     "name": "stdout",
     "output_type": "stream",
     "text": [
      "[55, 57, 47, 55, 55, 46, 50, 57, 53, 55, 50, 58, 51, 51, 49, 45, 55, 48, 45, 53, 46, 89, 85, 36, 95, 45, 78, 89, 85, 36, 95, 45, 78]\n"
     ]
    }
   ],
   "source": [
    "num5_add = [89,85,36,95,45,78]\n",
    "num5.extend(num5_add)\n",
    "print(num5)"
   ]
  },
  {
   "cell_type": "markdown",
   "id": "8c673a6a",
   "metadata": {},
   "source": [
    "DICTIONARY"
   ]
  },
  {
   "cell_type": "code",
   "execution_count": 2,
   "id": "c756ac16",
   "metadata": {},
   "outputs": [],
   "source": [
    "details = {\n",
    "    'manchesterunited' : ['England','Erik','Maguire','#4.2B',4-3-3],\n",
    "    'Manchestercity' : ['England','Pepgaduiola','de-bruyne','$4B',4-2-1-3],\n",
    "    'Arsenal' : ['Uk','arteta','martin','$2.8B',3-4-3],\n",
    "    'Totenham' : ['England','Antonio','hugo','$2.3B',3-4-2-1],\n",
    "    'Barcelona' : ['Spain','Xavi','Bosquet','$4.8B',4-1-3-2],\n",
    "    'Chelsea' : ['England','Tuchel','Cesar','$3.2B',3-4-3],\n",
    "    'Real-madrid' : ['spain','ancelotti','marcelo','$4.8',4-3-3],\n",
    "    'Ajax' : ['Netherland','alfred','tadic','$2.8M',4-3-3],\n",
    "    'Benfica' : ['portugal','Roger','Slbenfica','$2.5M',3-4-3],\n",
    "    'Psg' : ['france','galtier','mbape','$2.5B',4-3-2-1]\n",
    "}"
   ]
  },
  {
   "cell_type": "code",
   "execution_count": 13,
   "id": "d6610d0b",
   "metadata": {},
   "outputs": [
    {
     "name": "stdout",
     "output_type": "stream",
     "text": [
      "details\n"
     ]
    }
   ],
   "source": [
    "print(f'details')"
   ]
  },
  {
   "cell_type": "code",
   "execution_count": null,
   "id": "7a37226d",
   "metadata": {},
   "outputs": [],
   "source": []
  }
 ],
 "metadata": {
  "kernelspec": {
   "display_name": "Python 3 (ipykernel)",
   "language": "python",
   "name": "python3"
  },
  "language_info": {
   "codemirror_mode": {
    "name": "ipython",
    "version": 3
   },
   "file_extension": ".py",
   "mimetype": "text/x-python",
   "name": "python",
   "nbconvert_exporter": "python",
   "pygments_lexer": "ipython3",
   "version": "3.9.12"
  }
 },
 "nbformat": 4,
 "nbformat_minor": 5
}
