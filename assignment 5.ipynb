{
 "cells": [
  {
   "cell_type": "markdown",
   "id": "63463f93",
   "metadata": {},
   "source": [
    "# Write a function to build a body mass index{BMI} calculator"
   ]
  },
  {
   "cell_type": "code",
   "execution_count": 16,
   "id": "5a52d748",
   "metadata": {},
   "outputs": [
    {
     "name": "stdout",
     "output_type": "stream",
     "text": [
      "please input your height: 1.9\n",
      "please input your weight: 80\n",
      "the BMI is (bmi)\n",
      "heavy weight\n"
     ]
    }
   ],
   "source": [
    "def BMI(height, weight) :\n",
    "    bmi = weight/(height**2)\n",
    "    return bmi\n",
    "height = float(input('please input your height: '))\n",
    "weight = float(input('please input your weight: '))\n",
    "bmi = BMI(height, weight)\n",
    "print('the BMI is',f'(bmi)')\n",
    "if bmi < 17.5:\n",
    "    print('loss weight')\n",
    "elif bmi >= 17.5 and bmi < 20:\n",
    "    print('healthy')\n",
    "elif bmi >= 20 and bmi < 25:\n",
    "    print('heavy weight')\n",
    "else:\n",
    "    print('suffering from obesi')"
   ]
  }
 ],
 "metadata": {
  "kernelspec": {
   "display_name": "Python 3 (ipykernel)",
   "language": "python",
   "name": "python3"
  },
  "language_info": {
   "codemirror_mode": {
    "name": "ipython",
    "version": 3
   },
   "file_extension": ".py",
   "mimetype": "text/x-python",
   "name": "python",
   "nbconvert_exporter": "python",
   "pygments_lexer": "ipython3",
   "version": "3.9.12"
  }
 },
 "nbformat": 4,
 "nbformat_minor": 5
}
