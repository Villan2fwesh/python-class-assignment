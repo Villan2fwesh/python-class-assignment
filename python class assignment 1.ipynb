{
 "cells": [
  {
   "cell_type": "code",
   "execution_count": 3,
   "id": "c1a39d2d",
   "metadata": {},
   "outputs": [
    {
     "name": "stdout",
     "output_type": "stream",
     "text": [
      "MY NAME IS JAMES\n"
     ]
    }
   ],
   "source": [
    "name = \"my name is james\"\n",
    "print(name.upper())"
   ]
  },
  {
   "cell_type": "code",
   "execution_count": 4,
   "id": "39645894",
   "metadata": {},
   "outputs": [
    {
     "name": "stdout",
     "output_type": "stream",
     "text": [
      "I'm from a well-known village with good culture in kogi state\n"
     ]
    }
   ],
   "source": [
    "state = \"i'm from a well-known village with good culture in kogi state\"\n",
    "print(state.capitalize())"
   ]
  },
  {
   "cell_type": "code",
   "execution_count": 7,
   "id": "ccd6f269",
   "metadata": {},
   "outputs": [
    {
     "name": "stdout",
     "output_type": "stream",
     "text": [
      " I HAVE $1000 SO I CAN BUY 3 FOOTBALLS FOR $450\n"
     ]
    }
   ],
   "source": [
    "totalmoney = \"#1000\"\n",
    "quantity = 3\n",
    "price = \"#450\"\n",
    "report = \" i have $1000 so i can buy 3 footballs for $450\"\n",
    "print(report.format(totalmoney,quantity,price).upper())"
   ]
  },
  {
   "cell_type": "code",
   "execution_count": 10,
   "id": "4796b75d",
   "metadata": {},
   "outputs": [
    {
     "name": "stdout",
     "output_type": "stream",
     "text": [
      " DON'T QUIT\n",
      "WHEN THINGS GO WRONG, AS THEY SOMETIMES WILL,\n",
      "WHEN THE ROAD YOU'RE TRUGDING SEEMS ALL UPHILL.\n",
      "WHEN THE FUNDS ARE LOW AND THE DEBTS ARE HIGH,\n",
      "AND YOU WANT TO SMILE BUT YOU HAVE TO SIGH.\n",
      "WHEN CARE IS PRESSING YOU DOWN A BIT,\n",
      "REST,IF YOU MUST,BUT DON'T YOU QUIT.\n",
      "FOR LIFE IS QUEER WITH ITS TWIST AND TURNS\n",
      "AS FOR EVERYONE OF US SOMETIMES LEARNS.\n",
      "AND MANY A FAILURE TURNS ABOUT\n",
      "WHEN HE MIGHT HAVE WON HAD HE STUCK IT OUT.\n",
      "\n",
      "DON'T GIVE UP THOUGH THE PACE SEEMS SLOW-\n",
      "YOU MAY SUCCEED WITH ANOTHER BLOW.\n",
      "SUCCESS IS FAILURE TURNED INSIDE OUT-\n",
      "THE SILVER TINT OF THE CLOUD OF DOUBTS.\n",
      "AND YOU NEVER CAN TELL HOW CLOSE YOU ARE.\n",
      "IT MAY BE NEAR WHEN IT SEEMS SO FAR:\n",
      "SO STICK TO THE FIGHT WHEN YOU'RE HARDEST HIT\n",
      "IT'S WHEN THINGS SEEMS WORST THAT YOU MUST NOT QUIT.\n",
      "\n"
     ]
    }
   ],
   "source": [
    "poem = ''' don't quit\n",
    "when things go wrong, as they sometimes will,\n",
    "when the road you're trugding seems all uphill.\n",
    "when the funds are low and the debts are high,\n",
    "and you want to smile but you have to sigh.\n",
    "when care is pressing you down a bit,\n",
    "rest,if you must,but don't you quit.\n",
    "for life is queer with its twist and turns\n",
    "as for everyone of us sometimes learns.\n",
    "and many a failure turns about\n",
    "when he might have won had he stuck it out.\n",
    "\n",
    "don't give up though the pace seems slow-\n",
    "you may succeed with another blow.\n",
    "success is failure turned inside out-\n",
    "the silver tint of the cloud of doubts.\n",
    "and you never can tell how close you are.\n",
    "it may be near when it seems so far:\n",
    "so stick to the fight when you're hardest hit\n",
    "it's when things seems worst that you must not quit.\n",
    "'''\n",
    "print(poem.upper())"
   ]
  }
 ],
 "metadata": {
  "kernelspec": {
   "display_name": "Python 3 (ipykernel)",
   "language": "python",
   "name": "python3"
  },
  "language_info": {
   "codemirror_mode": {
    "name": "ipython",
    "version": 3
   },
   "file_extension": ".py",
   "mimetype": "text/x-python",
   "name": "python",
   "nbconvert_exporter": "python",
   "pygments_lexer": "ipython3",
   "version": "3.9.12"
  }
 },
 "nbformat": 4,
 "nbformat_minor": 5
}
