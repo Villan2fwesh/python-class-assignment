{
 "cells": [
  {
   "cell_type": "code",
   "execution_count": 1,
   "id": "b4540345",
   "metadata": {},
   "outputs": [],
   "source": [
    "import datetime"
   ]
  },
  {
   "cell_type": "code",
   "execution_count": 14,
   "id": "cf3b266b",
   "metadata": {},
   "outputs": [
    {
     "name": "stdout",
     "output_type": "stream",
     "text": [
      "please provide day of appointment in this format(d/m/y): 29/07/2004\n"
     ]
    },
    {
     "data": {
      "text/plain": [
       "datetime.timedelta(days=6601)"
      ]
     },
     "execution_count": 14,
     "metadata": {},
     "output_type": "execute_result"
    }
   ],
   "source": [
    "appointment_date = input('please provide day of appointment in this format(d/m/y): ')\n",
    "f_date = datetime.datetime.strptime(appointment_date,'%d/%m/%Y').date()\n",
    "current_date = datetime.date.today()\n",
    "current_date-f_date\n"
   ]
  },
  {
   "cell_type": "code",
   "execution_count": 20,
   "id": "a92348c9",
   "metadata": {},
   "outputs": [
    {
     "data": {
      "text/plain": [
       "-943"
      ]
     },
     "execution_count": 20,
     "metadata": {},
     "output_type": "execute_result"
    }
   ],
   "source": [
    "past_weeks = datetime.date(2004,7,29)\n",
    "c_date = past_weeks - current_date\n",
    "c_date.days // 7"
   ]
  }
 ],
 "metadata": {
  "kernelspec": {
   "display_name": "Python 3 (ipykernel)",
   "language": "python",
   "name": "python3"
  },
  "language_info": {
   "codemirror_mode": {
    "name": "ipython",
    "version": 3
   },
   "file_extension": ".py",
   "mimetype": "text/x-python",
   "name": "python",
   "nbconvert_exporter": "python",
   "pygments_lexer": "ipython3",
   "version": "3.9.12"
  }
 },
 "nbformat": 4,
 "nbformat_minor": 5
}
