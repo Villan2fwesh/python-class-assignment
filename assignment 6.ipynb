{
 "cells": [
  {
   "cell_type": "markdown",
   "id": "53579408",
   "metadata": {},
   "source": [
    "NUMBER ONE\n",
    "\n",
    "Create a class called BMI having the following attribute\n",
    "\n",
    "1.Name, Country, Gender, Age, Weight, Height\n",
    "\n",
    "With the following Method\n",
    "\n",
    "1.Details, A condition to state the price per Continent, To calculate the original body mass index"
   ]
  },
  {
   "cell_type": "code",
   "execution_count": 25,
   "id": "b29201a5",
   "metadata": {},
   "outputs": [
    {
     "name": "stdout",
     "output_type": "stream",
     "text": [
      "provide your name: shedrack\n",
      "Your country: nigeria\n",
      "Male/Female: male\n",
      "Your age: 18\n",
      "Provide your weight: 55\n",
      "provide your height: 1.74\n"
     ]
    }
   ],
   "source": [
    "class BMI: \n",
    "    def __init__(Details,Name,Continent,Gender,Age,Weight,Height): \n",
    "        Details.Name = input('provide your name: ')\n",
    "        Details.Continent = input('Your country: ')\n",
    "        Details.Gender = input('Male/Female: ')\n",
    "        Details.Age = int(input('Your age: '))\n",
    "        Details.Weight = float(input('Provide your weight: '))\n",
    "        Details.Height = float(input('provide your height: '))\n",
    "    def bodymassinde(Details,cmi):\n",
    "        cmi = weight/(height**2)\n",
    "        return cmi\n",
    "    def continent(Details,africa,asia,europe,northamerica,southamerica,ocenia,antarctica):\n",
    "        if continent == africa:\n",
    "            print('Your price is #5000')\n",
    "        elif continent == asia:\n",
    "            print('your price is 20 won')\n",
    "        elif continent == europe:\n",
    "            print('your price 6 euro')\n",
    "        elif continent == north-america:\n",
    "            print('your price is 6 dollars')\n",
    "        elif continent == south-america:\n",
    "            print('your price is 6 dollars')\n",
    "        elif continent == ocenia:\n",
    "            print('your price is 5 dollars')\n",
    "        elif continent == antratica:\n",
    "            print('your price is 4 yen')\n",
    "User1 = BMI('shedrack','africa','male',18,65,1.9)"
   ]
  },
  {
   "cell_type": "code",
   "execution_count": 26,
   "id": "d84b5487",
   "metadata": {},
   "outputs": [
    {
     "name": "stdout",
     "output_type": "stream",
     "text": [
      "<bound method BMI.continent of <__main__.BMI object at 0x0000003132398D60>>\n"
     ]
    }
   ],
   "source": [
    "print(User1.continent)"
   ]
  },
  {
   "cell_type": "code",
   "execution_count": 15,
   "id": "c6353463",
   "metadata": {},
   "outputs": [
    {
     "name": "stdout",
     "output_type": "stream",
     "text": [
      "18\n"
     ]
    }
   ],
   "source": [
    "class marvelcharacter:\n",
    "    Name = 'Antman'\n",
    "    Origin = 'Usa'\n",
    "    Dob = 29-7-2004\n",
    "    Main_power = 'turn_small'\n",
    "    Other_power = 'blasters'\n",
    "\n",
    "    def Age(superhero):\n",
    "        year_of_birth = 2004\n",
    "        currentyear = 2022\n",
    "        age = (currentyear-year_of_birth)\n",
    "        print(age)\n",
    "obj = marvelcharacter()\n",
    "obj.Age()"
   ]
  },
  {
   "cell_type": "code",
   "execution_count": 3,
   "id": "0cdbd857",
   "metadata": {},
   "outputs": [],
   "source": [
    "class bikesimulation:\n",
    "    def __init__(bike,brand,model,color,year,speed):\n",
    "        bike.brand = brand\n",
    "        bike.model = model\n",
    "        bike.color = color\n",
    "        bike.year = year\n",
    "        bike.speed = speed\n",
    "    def start(bike):\n",
    "        print(f'{bike.brand} {bike.model} has started !!!!!!!!!!!!!!!!!!!!!!')\n",
    "    def gear(bike,ch):\n",
    "        if ch == 1:\n",
    "            print('car is placed on gear 1')\n",
    "        elif ch == 2:\n",
    "            print('car is placed on gear 2') \n",
    "        elif ch == 3:\n",
    "            print('car is placed on gear 3')\n",
    "        elif ch == 4:\n",
    "            print('car is placed on gear 4')\n",
    "        elif ch == 5:\n",
    "            print('car is placed on gear 5')\n",
    "        elif ch == 6:\n",
    "            print('gear on reverse')\n",
    "    def accelerate(bike):\n",
    "        opt = int(input('enter 1 to turn on nitro and 2 to turn off nitro:'))\n",
    "        if opt == 1:\n",
    "            print('nitro engaged')\n",
    "        elif opt == 2:\n",
    "            print('nitro disengaged')\n",
    "        else:\n",
    "            print('invalid option')\n",
    "    def stop(bike):\n",
    "        print('Game over !!!!!!!!!! car stopped')\n",
    "bike1 = bikesimulation('suzuki','hybrid','silver',2020,420)\n",
    "bike2 = bikesimulation('kawaski_ninja','4matic','balck',2021,550)"
   ]
  },
  {
   "cell_type": "code",
   "execution_count": 4,
   "id": "3d544c5c",
   "metadata": {},
   "outputs": [
    {
     "name": "stdout",
     "output_type": "stream",
     "text": [
      "suzuki hybrid has started !!!!!!!!!!!!!!!!!!!!!!\n",
      "gear on reverse\n",
      "enter 1 to turn on nitro and 2 to turn off nitro:1\n",
      "nitro engaged\n",
      "Game over !!!!!!!!!! car stopped\n"
     ]
    }
   ],
   "source": [
    "bike1.start()\n",
    "bike1.gear(6)\n",
    "bike1.accelerate()\n",
    "bike1.stop()"
   ]
  }
 ],
 "metadata": {
  "kernelspec": {
   "display_name": "Python 3 (ipykernel)",
   "language": "python",
   "name": "python3"
  },
  "language_info": {
   "codemirror_mode": {
    "name": "ipython",
    "version": 3
   },
   "file_extension": ".py",
   "mimetype": "text/x-python",
   "name": "python",
   "nbconvert_exporter": "python",
   "pygments_lexer": "ipython3",
   "version": "3.9.12"
  }
 },
 "nbformat": 4,
 "nbformat_minor": 5
}
